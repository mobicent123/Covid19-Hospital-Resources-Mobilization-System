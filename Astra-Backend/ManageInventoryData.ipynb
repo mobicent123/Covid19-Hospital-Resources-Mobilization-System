{
 "cells": [
  {
   "cell_type": "code",
   "execution_count": null,
   "metadata": {},
   "outputs": [
    {
     "name": "stdout",
     "output_type": "stream",
     "text": [
      "CREATE TABLE IF NOT EXISTS Inventory (StockID text,ProductID text,EmployeeID text,OrderQty text,StockedQty text,ScrappedQty text,ScrapReasonID text,ModifiedDate text,PRIMARY KEY (StockID));\n",
      "Now merge the files and make a unified file.. \n"
     ]
    }
   ],
   "source": [
    "__author__ = \"Abdul Rahman\"\n",
    "__copyright__ = \"Copyright 2021, Datastax Astra Hackathon\"\n",
    "__credits__ = []\n",
    "__license__ = \"GPL\"\n",
    "__version__ = \"0.1\"\n",
    "__maintainer__ = \"Abdul Rahman\"\n",
    "__email__ = \"arahman1214.ar@gmail.com\"\n",
    "__status__ = \"Hackathon\"\n",
    "\n",
    "from cassandra.cluster import Cluster\n",
    "from cassandra.auth import PlainTextAuthProvider\n",
    "from cassandra import ConsistencyLevel\n",
    "from cassandra.query import SimpleStatement\n",
    "from csv import reader\n",
    "import random\n",
    "import decimal\n",
    "\n",
    "# Importing the os library\n",
    "import os\n",
    "\n",
    "\n",
    "cloud_config= {\n",
    "        'secure_connect_bundle': 'secure-connect-inventory.zip'\n",
    "}\n",
    "\n",
    "auth_provider = PlainTextAuthProvider('wjmCJxDaEAUuMRFXhMARIbux', \\\n",
    "                                      'zhn4+.m,ahYKNlvZhf1CC6EzFyOnwrA.uoDLsMyW2.MF1siTs1kKcfv3KwZUrMcEZmjHgf.-LYGWl5Yq-moBCd6kbr6aqDslJx8bxGfKaZecv44iOcQWM+TncI6phFLI')\n",
    "cluster = Cluster(cloud=cloud_config, auth_provider=auth_provider)\n",
    "session = cluster.connect()\n",
    "session.set_keyspace('Inventory')\n",
    "\n",
    "\n",
    "#Create a table\n",
    "createStatement =\"CREATE TABLE IF NOT EXISTS Inventory (\\\n",
    "StockID text,\\\n",
    "ProductID text,\\\n",
    "EmployeeID text,\\\n",
    "OrderQty text,\\\n",
    "StockedQty text,\\\n",
    "ScrappedQty text,\\\n",
    "ScrapReasonID text,\\\n",
    "ModifiedDate text,\\\n",
    "PRIMARY KEY (StockID));\"\n",
    "\n",
    "print (createStatement)\n",
    "dataRow=session.execute(createStatement)\n",
    "\n",
    "print (\"Now merge the files and make a unified file.. \")\n",
    "# open file in read mode\n",
    "primaryKeyCounter=1\n",
    "\n",
    "# The list of items\n",
    "# The path for listing items\n",
    "path = './SampleDataPopulated'\n",
    "MultipleFilesFromHospitals = os.listdir(path)\n",
    "\n",
    "# Loop to print each filename separately\n",
    "for filename in MultipleFilesFromHospitals:\n",
    "    if filename.startswith(\"Inventory\"):\n",
    "        with open(\"SampleDataPopulated/\"+filename, 'r') as read_obj:\n",
    "            # pass the file object to reader() to get the reader object\n",
    "            csv_reader = reader(read_obj)\n",
    "\n",
    "            ignoreHeaderRow=True;\n",
    "            # Iterate over each filelinerow in the csv using reader object\n",
    "            for filelinerow in csv_reader:\n",
    "                # filelinerow variable is a list that represents a filelinerow in csv\n",
    "\n",
    "                if ignoreHeaderRow==True:\n",
    "                    ignoreHeaderRow=False\n",
    "                    continue\n",
    "\n",
    "                result = session.execute(\n",
    "                \"\"\"         \n",
    "                INSERT INTO Inventory (StockID,ProductID,EmployeeID,OrderQty,StockedQty,ScrappedQty,ScrapReasonID,ModifiedDate) \n",
    "                VALUES( %s, %s, %s, %s, %s, %s, %s, %s)\n",
    "                \"\"\",\n",
    "                (str(primaryKeyCounter),filelinerow[1],filelinerow[2],filelinerow[3],filelinerow[4],filelinerow[5],filelinerow[6],filelinerow[7])\n",
    "                )\n",
    "                primaryKeyCounter+=1\n",
    "\n",
    "astraRows = session.execute('SELECT COUNT(1) FROM Inventory')\n",
    "for astraRow in astraRows:\n",
    "    print(astraRow)\n"
   ]
  },
  {
   "cell_type": "code",
   "execution_count": null,
   "metadata": {},
   "outputs": [],
   "source": []
  },
  {
   "cell_type": "code",
   "execution_count": null,
   "metadata": {},
   "outputs": [],
   "source": []
  },
  {
   "cell_type": "code",
   "execution_count": null,
   "metadata": {},
   "outputs": [],
   "source": []
  }
 ],
 "metadata": {
  "kernelspec": {
   "display_name": "Python 3",
   "language": "python",
   "name": "python3"
  },
  "language_info": {
   "codemirror_mode": {
    "name": "ipython",
    "version": 3
   },
   "file_extension": ".py",
   "mimetype": "text/x-python",
   "name": "python",
   "nbconvert_exporter": "python",
   "pygments_lexer": "ipython3",
   "version": "3.8.5"
  }
 },
 "nbformat": 4,
 "nbformat_minor": 4
}
